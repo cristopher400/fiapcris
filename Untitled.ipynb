{
  "nbformat": 4,
  "nbformat_minor": 0,
  "metadata": {
    "colab": {
      "provenance": [],
      "authorship_tag": "ABX9TyNXXB7vUi4NtwU5YotO+zlW",
      "include_colab_link": true
    },
    "kernelspec": {
      "name": "python3",
      "display_name": "Python 3"
    },
    "language_info": {
      "name": "python"
    }
  },
  "cells": [
    {
      "cell_type": "markdown",
      "metadata": {
        "id": "view-in-github",
        "colab_type": "text"
      },
      "source": [
        "<a href=\"https://colab.research.google.com/github/cristopher400/fiapcris/blob/main/Untitled.ipynb\" target=\"_parent\"><img src=\"https://colab.research.google.com/assets/colab-badge.svg\" alt=\"Open In Colab\"/></a>"
      ]
    },
    {
      "cell_type": "code",
      "source": [
        "import csv\n",
        "import pandas as pd\n",
        "import numpy as np\n",
        "import seaborn as sns\n",
        "import requests\n",
        "import matplotlib.pyplot as plt\n",
        "import os"
      ],
      "metadata": {
        "id": "Zv7yb7iA6Kan"
      },
      "execution_count": 48,
      "outputs": []
    },
    {
      "cell_type": "code",
      "source": [
        "from PIL import Image"
      ],
      "metadata": {
        "id": "ZwhVxLYZckSW"
      },
      "execution_count": 34,
      "outputs": []
    },
    {
      "cell_type": "code",
      "source": [
        "tabela_venda = pd.read_csv(\"tabela_vendas.csv\", encoding = \"ISO-8859-1\", sep= \";\")\n",
        "tabela_venda.info()"
      ],
      "metadata": {
        "id": "iCyw-NWK6aKb",
        "colab": {
          "base_uri": "https://localhost:8080/"
        },
        "outputId": "c88572c3-1266-403c-f0f0-9095c89a5a8d"
      },
      "execution_count": 2,
      "outputs": [
        {
          "output_type": "stream",
          "name": "stderr",
          "text": [
            "<ipython-input-2-72f98cce142b>:1: DtypeWarning: Columns (4) have mixed types. Specify dtype option on import or set low_memory=False.\n",
            "  tabela_venda = pd.read_csv(\"tabela_vendas.csv\", encoding = \"ISO-8859-1\", sep= \";\")\n"
          ]
        },
        {
          "output_type": "stream",
          "name": "stdout",
          "text": [
            "<class 'pandas.core.frame.DataFrame'>\n",
            "RangeIndex: 133934 entries, 0 to 133933\n",
            "Data columns (total 14 columns):\n",
            " #   Column               Non-Null Count   Dtype \n",
            "---  ------               --------------   ----- \n",
            " 0   cod_pedido           133934 non-null  int64 \n",
            " 1   regiao_pais          133934 non-null  object\n",
            " 2   produto              133934 non-null  object\n",
            " 3   valor                133934 non-null  object\n",
            " 4   quantidade           133638 non-null  object\n",
            " 5   valor_total_bruto    133934 non-null  object\n",
            " 6   data                 133934 non-null  object\n",
            " 7   estado               133933 non-null  object\n",
            " 8   formapagto           133933 non-null  object\n",
            " 9   centro_distribuicao  133933 non-null  object\n",
            " 10  responsavelpedido    133933 non-null  object\n",
            " 11  valor_comissao       133933 non-null  object\n",
            " 12  lucro_liquido        133933 non-null  object\n",
            " 13  categoriaprod        133933 non-null  object\n",
            "dtypes: int64(1), object(13)\n",
            "memory usage: 14.3+ MB\n"
          ]
        }
      ]
    },
    {
      "cell_type": "code",
      "source": [
        "tabela_venda['valor_total_bruto'] = tabela_venda['valor_total_bruto'].str.replace(',' , '.').astype(float)"
      ],
      "metadata": {
        "id": "SthoxNziH2RK"
      },
      "execution_count": 3,
      "outputs": []
    },
    {
      "cell_type": "code",
      "source": [
        "plt.plot(tabela_venda['valor_total_bruto'], marker='o', linestyle='', color='red')\n",
        "plt.axhline(0, color='gray')\n",
        "plt.show()"
      ],
      "metadata": {
        "colab": {
          "base_uri": "https://localhost:8080/",
          "height": 445
        },
        "id": "dxQ8vwi864ll",
        "outputId": "2009eb77-c62c-43ec-ad32-7b90a7578b69"
      },
      "execution_count": null,
      "outputs": [
        {
          "output_type": "display_data",
          "data": {
            "text/plain": [
              "<Figure size 640x480 with 1 Axes>"
            ],
            "image/png": "[encoded data removed]"
          },
          "metadata": {}
        }
      ]
    },
    {
      "cell_type": "code",
      "source": [
        "tabela_venda['valor'] = tabela_venda['valor'].str.replace(',' , '.').astype(float)"
      ],
      "metadata": {
        "id": "Yt8cn65oQPZw"
      },
      "execution_count": 7,
      "outputs": []
    },
    {
      "cell_type": "code",
      "source": [
        "tabela_venda['quantidade'] = tabela_venda['quantidade'].str.replace(',','.')"
      ],
      "metadata": {
        "id": "nQ7hsGloRy03"
      },
      "execution_count": 47,
      "outputs": []
    },
    {
      "cell_type": "code",
      "source": [
        "tabela_venda['quantidade'] = tabela_venda['quantidade'].fillna(0)"
      ],
      "metadata": {
        "id": "ZWjVOLdlVsr3"
      },
      "execution_count": 44,
      "outputs": []
    },
    {
      "cell_type": "code",
      "source": [
        "tabela_venda['quantidade'] = pd.to_numeric(tabela_venda['quantidade'],errors='coerce')\n",
        "tabela_venda.info()"
      ],
      "metadata": {
        "colab": {
          "base_uri": "https://localhost:8080/"
        },
        "id": "fAradeDsV2fh",
        "outputId": "a4afbcd0-2a73-491e-aa06-a5ea1f5629a2"
      },
      "execution_count": 57,
      "outputs": [
        {
          "output_type": "stream",
          "name": "stdout",
          "text": [
            "<class 'pandas.core.frame.DataFrame'>\n",
            "RangeIndex: 133934 entries, 0 to 133933\n",
            "Data columns (total 14 columns):\n",
            " #   Column               Non-Null Count   Dtype  \n",
            "---  ------               --------------   -----  \n",
            " 0   cod_pedido           133934 non-null  int64  \n",
            " 1   regiao_pais          133934 non-null  object \n",
            " 2   produto              133934 non-null  object \n",
            " 3   valor                133934 non-null  float64\n",
            " 4   quantidade           130650 non-null  float64\n",
            " 5   valor_total_bruto    133934 non-null  float64\n",
            " 6   data                 133934 non-null  object \n",
            " 7   estado               133933 non-null  object \n",
            " 8   formapagto           133933 non-null  object \n",
            " 9   centro_distribuicao  133933 non-null  object \n",
            " 10  responsavelpedido    133933 non-null  object \n",
            " 11  valor_comissao       133933 non-null  object \n",
            " 12  lucro_liquido        133933 non-null  object \n",
            " 13  categoriaprod        133933 non-null  object \n",
            "dtypes: float64(3), int64(1), object(10)\n",
            "memory usage: 14.3+ MB\n"
          ]
        }
      ]
    },
    {
      "cell_type": "code",
      "source": [
        "for indice, linha in tabela_venda.iterrows():\n",
        "    # verificar se o valor é igual a zero\n",
        "    if linha['valor_total_bruto'] == 0:\n",
        "        # multiplicar pelas outras colunas\n",
        "        resultado = linha['valor'] * linha['quantidade']\n",
        "        # atribuir o resultado à coluna desejada\n",
        "        tabela_venda.at[indice, 'valor_total_bruto'] = resultado\n",
        "        tabela_venda.to_csv('tabela_vendas.csv', index=False)"
      ],
      "metadata": {
        "id": "G1NfUCy0rHqg"
      },
      "execution_count": 55,
      "outputs": []
    },
    {
      "cell_type": "code",
      "source": [
        "qtd_zeros = (tabela_venda['valor_total_bruto'] == 0).sum()\n",
        "# imprimindo a quantidade de valores nulos\n",
        "print('Quantidade de valores nulos na coluna1:', qtd_zeros)"
      ],
      "metadata": {
        "id": "_YBszyolJ8np",
        "colab": {
          "base_uri": "https://localhost:8080/"
        },
        "outputId": "2822e1b6-b4b4-4c19-9761-1c67d9a4fa1c"
      },
      "execution_count": 59,
      "outputs": [
        {
          "output_type": "stream",
          "name": "stdout",
          "text": [
            "Quantidade de valores nulos na coluna1: 0\n"
          ]
        }
      ]
    },
    {
      "cell_type": "code",
      "source": [],
      "metadata": {
        "id": "xy4DgDR1sAjH"
      },
      "execution_count": null,
      "outputs": []
    }
  ]
}